{
 "cells": [
  {
   "cell_type": "markdown",
   "metadata": {},
   "source": [
    "### 1) Objective\n",
    "\n",
    "a) Understand a sample dataset using vcd package and see how features are calibrated to check if they impact overall model performance in the context of using XGBoost\n",
    "\n",
    "b) Prepare the dataset to create a sparse matrix structure from a simple Arthritis dataset within the vcd package to see how computed parameters can be created for handling categorical information, handling factor parameters.\n",
    "\n",
    "c) Usage of eXtreme Gradient Boosting in R as an example\n"
   ]
  },
  {
   "cell_type": "markdown",
   "metadata": {},
   "source": [
    "### 2) Load all required libraries / packages"
   ]
  },
  {
   "cell_type": "code",
   "execution_count": 2,
   "metadata": {},
   "outputs": [
    {
     "name": "stderr",
     "output_type": "stream",
     "text": [
      "also installing the dependency ‘lmtest’\n",
      "\n",
      "Updating HTML index of packages in '.Library'\n",
      "Making 'packages.html' ... done\n"
     ]
    }
   ],
   "source": [
    "install.packages(\"vcd\")"
   ]
  },
  {
   "cell_type": "code",
   "execution_count": 3,
   "metadata": {},
   "outputs": [
    {
     "name": "stderr",
     "output_type": "stream",
     "text": [
      "Loading required package: grid\n"
     ]
    }
   ],
   "source": [
    "library(xgboost)\n",
    "library(vcd)\n",
    "library(Matrix)\n",
    "library(data.table)"
   ]
  },
  {
   "cell_type": "markdown",
   "metadata": {},
   "source": [
    "### 3) Load the dataset"
   ]
  },
  {
   "cell_type": "markdown",
   "metadata": {},
   "source": [
    "XGBoost can manage only numeric vectors.\n",
    "\n",
    "We need to convert any categorical variables to numerical variables.\n",
    "We are going to perform one hot encoding. In this VCD (Vignette dataset), we will see how to transform a dense data.frame (dense = few zeroes in the matrix) with categorical variables to a very sparse matrix (sparse = lots of zero in the matrix) of numeric features.\n",
    "\n",
    "We load the \"Arthritis\" dataset in to memory and then wrap it with \"data.table\" package."
   ]
  },
  {
   "cell_type": "code",
   "execution_count": 4,
   "metadata": {},
   "outputs": [
    {
     "data": {
      "text/html": [
       "<table>\n",
       "<thead><tr><th scope=col>ID</th><th scope=col>Treatment</th><th scope=col>Sex</th><th scope=col>Age</th><th scope=col>Improved</th></tr></thead>\n",
       "<tbody>\n",
       "\t<tr><td>57     </td><td>Treated</td><td>Male   </td><td>27     </td><td>Some   </td></tr>\n",
       "\t<tr><td>46     </td><td>Treated</td><td>Male   </td><td>29     </td><td>None   </td></tr>\n",
       "\t<tr><td>77     </td><td>Treated</td><td>Male   </td><td>30     </td><td>None   </td></tr>\n",
       "\t<tr><td>17     </td><td>Treated</td><td>Male   </td><td>32     </td><td>Marked </td></tr>\n",
       "\t<tr><td>36     </td><td>Treated</td><td>Male   </td><td>46     </td><td>Marked </td></tr>\n",
       "\t<tr><td>23     </td><td>Treated</td><td>Male   </td><td>58     </td><td>Marked </td></tr>\n",
       "</tbody>\n",
       "</table>\n"
      ],
      "text/latex": [
       "\\begin{tabular}{r|lllll}\n",
       " ID & Treatment & Sex & Age & Improved\\\\\n",
       "\\hline\n",
       "\t 57      & Treated & Male    & 27      & Some   \\\\\n",
       "\t 46      & Treated & Male    & 29      & None   \\\\\n",
       "\t 77      & Treated & Male    & 30      & None   \\\\\n",
       "\t 17      & Treated & Male    & 32      & Marked \\\\\n",
       "\t 36      & Treated & Male    & 46      & Marked \\\\\n",
       "\t 23      & Treated & Male    & 58      & Marked \\\\\n",
       "\\end{tabular}\n"
      ],
      "text/markdown": [
       "\n",
       "ID | Treatment | Sex | Age | Improved | \n",
       "|---|---|---|---|---|---|\n",
       "| 57      | Treated | Male    | 27      | Some    | \n",
       "| 46      | Treated | Male    | 29      | None    | \n",
       "| 77      | Treated | Male    | 30      | None    | \n",
       "| 17      | Treated | Male    | 32      | Marked  | \n",
       "| 36      | Treated | Male    | 46      | Marked  | \n",
       "| 23      | Treated | Male    | 58      | Marked  | \n",
       "\n",
       "\n"
      ],
      "text/plain": [
       "  ID Treatment Sex  Age Improved\n",
       "1 57 Treated   Male 27  Some    \n",
       "2 46 Treated   Male 29  None    \n",
       "3 77 Treated   Male 30  None    \n",
       "4 17 Treated   Male 32  Marked  \n",
       "5 36 Treated   Male 46  Marked  \n",
       "6 23 Treated   Male 58  Marked  "
      ]
     },
     "metadata": {},
     "output_type": "display_data"
    },
    {
     "name": "stdout",
     "output_type": "stream",
     "text": [
      "Classes ‘data.table’ and 'data.frame':\t84 obs. of  5 variables:\n",
      " $ ID       : int  57 46 77 17 36 23 75 39 33 55 ...\n",
      " $ Treatment: Factor w/ 2 levels \"Placebo\",\"Treated\": 2 2 2 2 2 2 2 2 2 2 ...\n",
      " $ Sex      : Factor w/ 2 levels \"Female\",\"Male\": 2 2 2 2 2 2 2 2 2 2 ...\n",
      " $ Age      : int  27 29 30 32 46 58 59 59 63 63 ...\n",
      " $ Improved : Ord.factor w/ 3 levels \"None\"<\"Some\"<..: 2 1 1 3 3 3 1 3 1 1 ...\n",
      " - attr(*, \".internal.selfref\")=<externalptr> \n"
     ]
    }
   ],
   "source": [
    "set.seed(1234)\n",
    "data(\"Arthritis\")\n",
    "df <- data.table(Arthritis, keep.rownames = F)\n",
    "head(df)\n",
    "\n",
    "str(df)\n",
    "# so 2 columns have factor type, one has ordinal type..\n"
   ]
  },
  {
   "cell_type": "markdown",
   "metadata": {},
   "source": [
    "### 4) Data preparation"
   ]
  },
  {
   "cell_type": "markdown",
   "metadata": {},
   "source": [
    "We will try to create new features from existing categorical variables.\n",
    "\n",
    "Grouping per every 10 years for the age related categorical data.\n",
    "\n",
    "a) We create a feature that create groups of age rounding the real age. We will have to transform it as factor variable so that the algorithm will treat these groups as independent values.\n",
    "b) Then we will create another feature to random split on a threshold value - say age of 30. to determine who is old and who is young.\n",
    "\n",
    "Now if we note here - these new features are highly correlated to the Age parameter as theyare simple transformations of this parameter.\n",
    "\n",
    "Ideally for machine learning algorithms, it is not a good practice to use correlated features. It may sometimes make prediction less accurate, and most of the time demonstrate interpretation of the model almost impossible. For example: GLM, for instance, assumes that the features are uncorrelated. On other hand, fortunately, decision tree algorithms (including boosted trees) are very robust to these features. "
   ]
  },
  {
   "cell_type": "code",
   "execution_count": 5,
   "metadata": {},
   "outputs": [
    {
     "data": {
      "text/html": [
       "<table>\n",
       "<thead><tr><th scope=col>ID</th><th scope=col>Treatment</th><th scope=col>Sex</th><th scope=col>Age</th><th scope=col>Improved</th><th scope=col>AgeDiscret</th></tr></thead>\n",
       "<tbody>\n",
       "\t<tr><td>57     </td><td>Treated</td><td>Male   </td><td>27     </td><td>Some   </td><td>3      </td></tr>\n",
       "\t<tr><td>46     </td><td>Treated</td><td>Male   </td><td>29     </td><td>None   </td><td>3      </td></tr>\n",
       "\t<tr><td>77     </td><td>Treated</td><td>Male   </td><td>30     </td><td>None   </td><td>3      </td></tr>\n",
       "\t<tr><td>17     </td><td>Treated</td><td>Male   </td><td>32     </td><td>Marked </td><td>3      </td></tr>\n",
       "\t<tr><td>36     </td><td>Treated</td><td>Male   </td><td>46     </td><td>Marked </td><td>5      </td></tr>\n",
       "\t<tr><td>23     </td><td>Treated</td><td>Male   </td><td>58     </td><td>Marked </td><td>6      </td></tr>\n",
       "</tbody>\n",
       "</table>\n"
      ],
      "text/latex": [
       "\\begin{tabular}{r|llllll}\n",
       " ID & Treatment & Sex & Age & Improved & AgeDiscret\\\\\n",
       "\\hline\n",
       "\t 57      & Treated & Male    & 27      & Some    & 3      \\\\\n",
       "\t 46      & Treated & Male    & 29      & None    & 3      \\\\\n",
       "\t 77      & Treated & Male    & 30      & None    & 3      \\\\\n",
       "\t 17      & Treated & Male    & 32      & Marked  & 3      \\\\\n",
       "\t 36      & Treated & Male    & 46      & Marked  & 5      \\\\\n",
       "\t 23      & Treated & Male    & 58      & Marked  & 6      \\\\\n",
       "\\end{tabular}\n"
      ],
      "text/markdown": [
       "\n",
       "ID | Treatment | Sex | Age | Improved | AgeDiscret | \n",
       "|---|---|---|---|---|---|\n",
       "| 57      | Treated | Male    | 27      | Some    | 3       | \n",
       "| 46      | Treated | Male    | 29      | None    | 3       | \n",
       "| 77      | Treated | Male    | 30      | None    | 3       | \n",
       "| 17      | Treated | Male    | 32      | Marked  | 3       | \n",
       "| 36      | Treated | Male    | 46      | Marked  | 5       | \n",
       "| 23      | Treated | Male    | 58      | Marked  | 6       | \n",
       "\n",
       "\n"
      ],
      "text/plain": [
       "  ID Treatment Sex  Age Improved AgeDiscret\n",
       "1 57 Treated   Male 27  Some     3         \n",
       "2 46 Treated   Male 29  None     3         \n",
       "3 77 Treated   Male 30  None     3         \n",
       "4 17 Treated   Male 32  Marked   3         \n",
       "5 36 Treated   Male 46  Marked   5         \n",
       "6 23 Treated   Male 58  Marked   6         "
      ]
     },
     "metadata": {},
     "output_type": "display_data"
    },
    {
     "data": {
      "text/html": [
       "<table>\n",
       "<thead><tr><th scope=col>ID</th><th scope=col>Treatment</th><th scope=col>Sex</th><th scope=col>Age</th><th scope=col>Improved</th><th scope=col>AgeDiscret</th><th scope=col>AgeCat</th></tr></thead>\n",
       "<tbody>\n",
       "\t<tr><td>57     </td><td>Treated</td><td>Male   </td><td>27     </td><td>Some   </td><td>3      </td><td>Young  </td></tr>\n",
       "\t<tr><td>46     </td><td>Treated</td><td>Male   </td><td>29     </td><td>None   </td><td>3      </td><td>Young  </td></tr>\n",
       "\t<tr><td>77     </td><td>Treated</td><td>Male   </td><td>30     </td><td>None   </td><td>3      </td><td>Young  </td></tr>\n",
       "\t<tr><td>17     </td><td>Treated</td><td>Male   </td><td>32     </td><td>Marked </td><td>3      </td><td>Old    </td></tr>\n",
       "\t<tr><td>36     </td><td>Treated</td><td>Male   </td><td>46     </td><td>Marked </td><td>5      </td><td>Old    </td></tr>\n",
       "\t<tr><td>23     </td><td>Treated</td><td>Male   </td><td>58     </td><td>Marked </td><td>6      </td><td>Old    </td></tr>\n",
       "</tbody>\n",
       "</table>\n"
      ],
      "text/latex": [
       "\\begin{tabular}{r|lllllll}\n",
       " ID & Treatment & Sex & Age & Improved & AgeDiscret & AgeCat\\\\\n",
       "\\hline\n",
       "\t 57      & Treated & Male    & 27      & Some    & 3       & Young  \\\\\n",
       "\t 46      & Treated & Male    & 29      & None    & 3       & Young  \\\\\n",
       "\t 77      & Treated & Male    & 30      & None    & 3       & Young  \\\\\n",
       "\t 17      & Treated & Male    & 32      & Marked  & 3       & Old    \\\\\n",
       "\t 36      & Treated & Male    & 46      & Marked  & 5       & Old    \\\\\n",
       "\t 23      & Treated & Male    & 58      & Marked  & 6       & Old    \\\\\n",
       "\\end{tabular}\n"
      ],
      "text/markdown": [
       "\n",
       "ID | Treatment | Sex | Age | Improved | AgeDiscret | AgeCat | \n",
       "|---|---|---|---|---|---|\n",
       "| 57      | Treated | Male    | 27      | Some    | 3       | Young   | \n",
       "| 46      | Treated | Male    | 29      | None    | 3       | Young   | \n",
       "| 77      | Treated | Male    | 30      | None    | 3       | Young   | \n",
       "| 17      | Treated | Male    | 32      | Marked  | 3       | Old     | \n",
       "| 36      | Treated | Male    | 46      | Marked  | 5       | Old     | \n",
       "| 23      | Treated | Male    | 58      | Marked  | 6       | Old     | \n",
       "\n",
       "\n"
      ],
      "text/plain": [
       "  ID Treatment Sex  Age Improved AgeDiscret AgeCat\n",
       "1 57 Treated   Male 27  Some     3          Young \n",
       "2 46 Treated   Male 29  None     3          Young \n",
       "3 77 Treated   Male 30  None     3          Young \n",
       "4 17 Treated   Male 32  Marked   3          Old   \n",
       "5 36 Treated   Male 46  Marked   5          Old   \n",
       "6 23 Treated   Male 58  Marked   6          Old   "
      ]
     },
     "metadata": {},
     "output_type": "display_data"
    },
    {
     "data": {},
     "metadata": {},
     "output_type": "display_data"
    },
    {
     "data": {
      "text/html": [
       "<ol class=list-inline>\n",
       "\t<li>'Placebo'</li>\n",
       "\t<li>'Treated'</li>\n",
       "</ol>\n"
      ],
      "text/latex": [
       "\\begin{enumerate*}\n",
       "\\item 'Placebo'\n",
       "\\item 'Treated'\n",
       "\\end{enumerate*}\n"
      ],
      "text/markdown": [
       "1. 'Placebo'\n",
       "2. 'Treated'\n",
       "\n",
       "\n"
      ],
      "text/plain": [
       "[1] \"Placebo\" \"Treated\""
      ]
     },
     "metadata": {},
     "output_type": "display_data"
    }
   ],
   "source": [
    "# Grouping per 10 years\n",
    "head(df[,AgeDiscret := as.factor(round(Age/10,0))])\n",
    "# Random split in two groups\n",
    "head(df[,AgeCat:= as.factor(ifelse(Age > 30, \"Old\", \"Young\"))])\n",
    "# Then performing data cleaning a bit, removing the ID field which is not needed\n",
    "df[,ID:=NULL]\n",
    "levels(df[,Treatment])"
   ]
  },
  {
   "cell_type": "markdown",
   "metadata": {},
   "source": [
    "#### One hot encoding - creation of Sparse Matrix\n",
    "The categorical variables are transformed to dummy variables.\n",
    "\n",
    "The purpose is to transform each value of each categorical feature in a binary feature {0, 1} to represent numerical matrix/vector form.\n",
    "\n",
    "For example, the column Treatment will be replaced by two columns, Placebo, and Treated. Each of them will be binary. Therefore, an observation which has the value Placebo in column Treatment before the transformation will have after the transformation the value 1 in the new column Placebo and the value 0 in the new column Treated. The column Treatment will disappear during the one-hot encoding.\n",
    "\n",
    "Column Improved is excluded because it will be our label column, the one we want to predict."
   ]
  },
  {
   "cell_type": "code",
   "execution_count": 6,
   "metadata": {},
   "outputs": [
    {
     "name": "stderr",
     "output_type": "stream",
     "text": [
      "   [[ suppressing 10 column names ‘TreatmentPlacebo’, ‘TreatmentTreated’, ‘SexMale’ ... ]]\n"
     ]
    },
    {
     "data": {
      "text/plain": [
       "6 x 10 sparse Matrix of class \"dgCMatrix\"\n",
       "                      \n",
       "1 . 1 1 27 1 . . . . 1\n",
       "2 . 1 1 29 1 . . . . 1\n",
       "3 . 1 1 30 1 . . . . 1\n",
       "4 . 1 1 32 1 . . . . .\n",
       "5 . 1 1 46 . . 1 . . .\n",
       "6 . 1 1 58 . . . 1 . ."
      ]
     },
     "metadata": {},
     "output_type": "display_data"
    }
   ],
   "source": [
    "sparse_matrix <- sparse.model.matrix(Improved~.-1, data = df)\n",
    "head(sparse_matrix)\n",
    "\n",
    "output_vector = df[,Improved] == \"Marked\""
   ]
  },
  {
   "cell_type": "markdown",
   "metadata": {},
   "source": [
    "### 5) Model Development\n"
   ]
  },
  {
   "cell_type": "code",
   "execution_count": 7,
   "metadata": {},
   "outputs": [
    {
     "name": "stdout",
     "output_type": "stream",
     "text": [
      "[1]\ttrain-error:0.202381 \n",
      "[2]\ttrain-error:0.166667 \n",
      "[3]\ttrain-error:0.166667 \n",
      "[4]\ttrain-error:0.166667 \n",
      "[5]\ttrain-error:0.154762 \n",
      "[6]\ttrain-error:0.154762 \n",
      "[7]\ttrain-error:0.154762 \n",
      "[8]\ttrain-error:0.166667 \n",
      "[9]\ttrain-error:0.166667 \n",
      "[10]\ttrain-error:0.166667 \n"
     ]
    }
   ],
   "source": [
    "# Train the XGBoost classifer\n",
    "xgb.fit <- xgboost(data = sparse_matrix, label = output_vector, max.depth = 4,\n",
    "               eta = 1, nthread = 2, nrounds = 10,objective = \"binary:logistic\")\n"
   ]
  },
  {
   "cell_type": "code",
   "execution_count": 8,
   "metadata": {},
   "outputs": [
    {
     "data": {
      "text/plain": [
       "##### xgb.Booster\n",
       "raw: 6.3 Kb \n",
       "call:\n",
       "  xgb.train(params = params, data = dtrain, nrounds = nrounds, \n",
       "    watchlist = watchlist, verbose = verbose, print_every_n = print_every_n, \n",
       "    early_stopping_rounds = early_stopping_rounds, maximize = maximize, \n",
       "    save_period = save_period, save_name = save_name, xgb_model = xgb_model, \n",
       "    callbacks = callbacks, max.depth = 4, eta = 1, nthread = 2, \n",
       "    objective = \"binary:logistic\")\n",
       "params (as set within xgb.train):\n",
       "  max_depth = \"4\", eta = \"1\", nthread = \"2\", objective = \"binary:logistic\", silent = \"1\"\n",
       "xgb.attributes:\n",
       "  niter\n",
       "callbacks:\n",
       "  cb.print.evaluation(period = print_every_n)\n",
       "  cb.evaluation.log()\n",
       "# of features: 10 \n",
       "niter: 10\n",
       "nfeatures : 10 \n",
       "evaluation_log:\n",
       "    iter train_error\n",
       "       1    0.202381\n",
       "       2    0.166667\n",
       "---                 \n",
       "       9    0.166667\n",
       "      10    0.166667"
      ]
     },
     "metadata": {},
     "output_type": "display_data"
    }
   ],
   "source": [
    "# Review the model and results\n",
    "xgb.fit"
   ]
  },
  {
   "cell_type": "markdown",
   "metadata": {},
   "source": [
    "### 6) Evaluation"
   ]
  },
  {
   "cell_type": "markdown",
   "metadata": {},
   "source": [
    "#### Measure Feature Importance"
   ]
  },
  {
   "cell_type": "code",
   "execution_count": 9,
   "metadata": {},
   "outputs": [
    {
     "data": {
      "text/html": [
       "<table>\n",
       "<thead><tr><th scope=col>Feature</th><th scope=col>Gain</th><th scope=col>Cover</th><th scope=col>Frequency</th></tr></thead>\n",
       "<tbody>\n",
       "\t<tr><td>Age             </td><td>0.622031801     </td><td>0.67251700      </td><td>0.67241379      </td></tr>\n",
       "\t<tr><td>TreatmentPlacebo</td><td>0.285750512     </td><td>0.11916649      </td><td>0.10344828      </td></tr>\n",
       "\t<tr><td>SexMale         </td><td>0.048744021     </td><td>0.04522027      </td><td>0.08620690      </td></tr>\n",
       "\t<tr><td>AgeDiscret6     </td><td>0.016604635     </td><td>0.04784639      </td><td>0.05172414      </td></tr>\n",
       "\t<tr><td>AgeDiscret3     </td><td>0.016373781     </td><td>0.08028950      </td><td>0.05172414      </td></tr>\n",
       "\t<tr><td>AgeDiscret4     </td><td>0.009270557     </td><td>0.02858800      </td><td>0.01724138      </td></tr>\n",
       "</tbody>\n",
       "</table>\n"
      ],
      "text/latex": [
       "\\begin{tabular}{r|llll}\n",
       " Feature & Gain & Cover & Frequency\\\\\n",
       "\\hline\n",
       "\t Age              & 0.622031801      & 0.67251700       & 0.67241379      \\\\\n",
       "\t TreatmentPlacebo & 0.285750512      & 0.11916649       & 0.10344828      \\\\\n",
       "\t SexMale          & 0.048744021      & 0.04522027       & 0.08620690      \\\\\n",
       "\t AgeDiscret6      & 0.016604635      & 0.04784639       & 0.05172414      \\\\\n",
       "\t AgeDiscret3      & 0.016373781      & 0.08028950       & 0.05172414      \\\\\n",
       "\t AgeDiscret4      & 0.009270557      & 0.02858800       & 0.01724138      \\\\\n",
       "\\end{tabular}\n"
      ],
      "text/markdown": [
       "\n",
       "Feature | Gain | Cover | Frequency | \n",
       "|---|---|---|---|---|---|\n",
       "| Age              | 0.622031801      | 0.67251700       | 0.67241379       | \n",
       "| TreatmentPlacebo | 0.285750512      | 0.11916649       | 0.10344828       | \n",
       "| SexMale          | 0.048744021      | 0.04522027       | 0.08620690       | \n",
       "| AgeDiscret6      | 0.016604635      | 0.04784639       | 0.05172414       | \n",
       "| AgeDiscret3      | 0.016373781      | 0.08028950       | 0.05172414       | \n",
       "| AgeDiscret4      | 0.009270557      | 0.02858800       | 0.01724138       | \n",
       "\n",
       "\n"
      ],
      "text/plain": [
       "  Feature          Gain        Cover      Frequency \n",
       "1 Age              0.622031801 0.67251700 0.67241379\n",
       "2 TreatmentPlacebo 0.285750512 0.11916649 0.10344828\n",
       "3 SexMale          0.048744021 0.04522027 0.08620690\n",
       "4 AgeDiscret6      0.016604635 0.04784639 0.05172414\n",
       "5 AgeDiscret3      0.016373781 0.08028950 0.05172414\n",
       "6 AgeDiscret4      0.009270557 0.02858800 0.01724138"
      ]
     },
     "metadata": {},
     "output_type": "display_data"
    }
   ],
   "source": [
    "importance <- xgb.importance(feature_names = sparse_matrix@Dimnames[[2]], model = xgb.fit)\n",
    "head(importance)"
   ]
  },
  {
   "cell_type": "markdown",
   "metadata": {},
   "source": [
    "#### Improvements"
   ]
  },
  {
   "cell_type": "code",
   "execution_count": 10,
   "metadata": {},
   "outputs": [
    {
     "name": "stderr",
     "output_type": "stream",
     "text": [
      "Warning message in xgb.importance(feature_names = sparse_matrix@Dimnames[[2]], model = xgb.fit, :\n",
      "“xgb.importance: parameters 'data', 'label' and 'target' are deprecated”"
     ]
    }
   ],
   "source": [
    "importanceRaw <- xgb.importance(feature_names = sparse_matrix@Dimnames[[2]], model = xgb.fit, data = sparse_matrix, label = output_vector)\n",
    "# Cleaning for better display\n",
    "importanceClean <- importanceRaw[,`:=`(Cover=NULL, Frequency=NULL)]\n"
   ]
  },
  {
   "cell_type": "code",
   "execution_count": 11,
   "metadata": {},
   "outputs": [
    {
     "data": {
      "text/html": [
       "<table>\n",
       "<thead><tr><th scope=col>Feature</th><th scope=col>Gain</th></tr></thead>\n",
       "<tbody>\n",
       "\t<tr><td>Age             </td><td>0.622031801     </td></tr>\n",
       "\t<tr><td>TreatmentPlacebo</td><td>0.285750512     </td></tr>\n",
       "\t<tr><td>SexMale         </td><td>0.048744021     </td></tr>\n",
       "\t<tr><td>AgeDiscret6     </td><td>0.016604635     </td></tr>\n",
       "\t<tr><td>AgeDiscret3     </td><td>0.016373781     </td></tr>\n",
       "\t<tr><td>AgeDiscret4     </td><td>0.009270557     </td></tr>\n",
       "</tbody>\n",
       "</table>\n"
      ],
      "text/latex": [
       "\\begin{tabular}{r|ll}\n",
       " Feature & Gain\\\\\n",
       "\\hline\n",
       "\t Age              & 0.622031801     \\\\\n",
       "\t TreatmentPlacebo & 0.285750512     \\\\\n",
       "\t SexMale          & 0.048744021     \\\\\n",
       "\t AgeDiscret6      & 0.016604635     \\\\\n",
       "\t AgeDiscret3      & 0.016373781     \\\\\n",
       "\t AgeDiscret4      & 0.009270557     \\\\\n",
       "\\end{tabular}\n"
      ],
      "text/markdown": [
       "\n",
       "Feature | Gain | \n",
       "|---|---|---|---|---|---|\n",
       "| Age              | 0.622031801      | \n",
       "| TreatmentPlacebo | 0.285750512      | \n",
       "| SexMale          | 0.048744021      | \n",
       "| AgeDiscret6      | 0.016604635      | \n",
       "| AgeDiscret3      | 0.016373781      | \n",
       "| AgeDiscret4      | 0.009270557      | \n",
       "\n",
       "\n"
      ],
      "text/plain": [
       "  Feature          Gain       \n",
       "1 Age              0.622031801\n",
       "2 TreatmentPlacebo 0.285750512\n",
       "3 SexMale          0.048744021\n",
       "4 AgeDiscret6      0.016604635\n",
       "5 AgeDiscret3      0.016373781\n",
       "6 AgeDiscret4      0.009270557"
      ]
     },
     "metadata": {},
     "output_type": "display_data"
    }
   ],
   "source": [
    "head(importanceClean)\n"
   ]
  },
  {
   "cell_type": "code",
   "execution_count": 12,
   "metadata": {},
   "outputs": [
    {
     "data": {
      "image/png": "[encoded data removed]",
      "text/plain": [
       "plot without title"
      ]
     },
     "metadata": {},
     "output_type": "display_data"
    }
   ],
   "source": [
    "xgb.plot.importance(importance_matrix = importanceRaw)"
   ]
  },
  {
   "cell_type": "markdown",
   "metadata": {},
   "source": [
    "### 7) Additional Analysis"
   ]
  },
  {
   "cell_type": "code",
   "execution_count": 13,
   "metadata": {},
   "outputs": [
    {
     "name": "stderr",
     "output_type": "stream",
     "text": [
      "Warning message in chisq.test(df$Age, output_vector):\n",
      "“Chi-squared approximation may be incorrect”"
     ]
    },
    {
     "name": "stdout",
     "output_type": "stream",
     "text": [
      "\n",
      "\tPearson's Chi-squared test\n",
      "\n",
      "data:  df$Age and output_vector\n",
      "X-squared = 35.475, df = 35, p-value = 0.4458\n",
      "\n"
     ]
    }
   ],
   "source": [
    "cAge <- chisq.test(df$Age, output_vector)\n",
    "print(cAge)\n"
   ]
  },
  {
   "cell_type": "code",
   "execution_count": 14,
   "metadata": {},
   "outputs": [
    {
     "name": "stderr",
     "output_type": "stream",
     "text": [
      "Warning message in chisq.test(df$AgeDiscret, output_vector):\n",
      "“Chi-squared approximation may be incorrect”"
     ]
    },
    {
     "name": "stdout",
     "output_type": "stream",
     "text": [
      "\n",
      "\tPearson's Chi-squared test\n",
      "\n",
      "data:  df$AgeDiscret and output_vector\n",
      "X-squared = 8.2554, df = 5, p-value = 0.1427\n",
      "\n"
     ]
    }
   ],
   "source": [
    "cAgeDiscret <- chisq.test(df$AgeDiscret, output_vector)\n",
    "print(cAgeDiscret)\n"
   ]
  },
  {
   "cell_type": "code",
   "execution_count": 15,
   "metadata": {},
   "outputs": [
    {
     "name": "stderr",
     "output_type": "stream",
     "text": [
      "Warning message in chisq.test(df$AgeCat, output_vector):\n",
      "“Chi-squared approximation may be incorrect”"
     ]
    },
    {
     "name": "stdout",
     "output_type": "stream",
     "text": [
      "\n",
      "\tPearson's Chi-squared test with Yates' continuity correction\n",
      "\n",
      "data:  df$AgeCat and output_vector\n",
      "X-squared = 2.3571, df = 1, p-value = 0.1247\n",
      "\n"
     ]
    }
   ],
   "source": [
    "cAgeCat <- chisq.test(df$AgeCat, output_vector)\n",
    "print(cAgeCat)"
   ]
  },
  {
   "cell_type": "markdown",
   "metadata": {},
   "source": [
    "According to the plot above, the most important features in the dataset is to predict if the treatment will work are :\n",
    "\n",
    "a) the Age factor\n",
    "\n",
    "b) having received a placebo or not\n",
    "\n",
    "c) the sex is third but already included in the not interesting features group\n",
    "\n",
    "d) we observe our generated features (AgeDiscret)- their contribution is very low.\n"
   ]
  },
  {
   "cell_type": "markdown",
   "metadata": {},
   "source": [
    "### Conclusion Remarks"
   ]
  },
  {
   "cell_type": "markdown",
   "metadata": {},
   "source": [
    "As we notice, in general, destroying information by simplifying it won’t improve our model. Chisquare parameter values demonstrates those aspects after we execute our feature importance from model using XGBoost.\n",
    "\n",
    "However, in more complex cases, creating a new feature based on existing one which makes link with the outcome more obvious may help the algorithm and improve the model. This may depend on the scale that we are looking at in our dataset and of course flavour of variation between parameters, correlations between features considered and so many other dimensions as well.\n",
    "\n",
    "The case studied here is not enough complex to show that. We can explore later on more challenging datasets to discover that. However it’s almost always worse when you add some arbitrary rules.\n",
    "\n",
    "Moreover, we can notice that even if we have added some \"not so useful\" new features highly correlated with other features, the boosting tree algorithm have been able to choose the best one, which in this case is the \"Age\" feature.\n",
    "\n",
    "Linear models may not be that smart in this scenario."
   ]
  },
  {
   "cell_type": "code",
   "execution_count": null,
   "metadata": {},
   "outputs": [],
   "source": []
  }
 ],
 "metadata": {
  "kernelspec": {
   "display_name": "R",
   "language": "R",
   "name": "ir"
  },
  "language_info": {
   "codemirror_mode": "r",
   "file_extension": ".r",
   "mimetype": "text/x-r-source",
   "name": "R",
   "pygments_lexer": "r",
   "version": "3.5.1"
  }
 },
 "nbformat": 4,
 "nbformat_minor": 2
}
